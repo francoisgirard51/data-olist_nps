{
 "cells": [
  {
   "cell_type": "markdown",
   "metadata": {},
   "source": [
    "## Imports"
   ]
  },
  {
   "cell_type": "code",
   "execution_count": 1,
   "metadata": {},
   "outputs": [],
   "source": [
    "# Import the usual modules\n",
    "import pandas as pd\n",
    "import numpy as np\n",
    "import seaborn as sns\n",
    "import matplotlib.pyplot as plt\n",
    "\n",
    "# Import Olist data\n",
    "from olist.data import Olist\n",
    "from olist.order import Order"
   ]
  },
  {
   "cell_type": "markdown",
   "metadata": {},
   "source": [
    "# Olist's Net Promoter Score (NPS) 🔥\n",
    "\n",
    "The **Net Promoter Score (NPS)** of a service answers the following question:\n",
    "\n",
    "> How likely is it that you would recommend our company/product/service to a friend or colleague?\n",
    "\n",
    "For a service rated between 1 and 5 stars, like Olist, we can **classify customers into three categories** based on their answers:\n",
    "- ✅ **Promoters**: customers who answered  with a score of 5\n",
    "- 😴 **Passive**: customers who answered with a score of 4 \n",
    "- 😡 **Detractors**: customers who answered with a score between 1 and 3 (inclusive)\n",
    "\n",
    "<br>\n",
    "\n",
    "👉 NPS is computed by subtracting the percentage of customers who are **detractors** from the percentage of customers who are **promoters**.\n",
    "\n",
    "> NPS  \n",
    "= % Promoters - % Detractors   \n",
    "= (# Promoter - # Detractors) / # Reviews  \n",
    "= (# 5 stars - # <4 stars) / # Reviews"
   ]
  },
  {
   "cell_type": "markdown",
   "metadata": {},
   "source": [
    "## Computing the Overall NPS Score of Olist"
   ]
  },
  {
   "cell_type": "code",
   "execution_count": 2,
   "metadata": {},
   "outputs": [],
   "source": [
    "data = Olist().get_data()\n",
    "orders = Order().get_training_data()"
   ]
  },
  {
   "cell_type": "markdown",
   "metadata": {},
   "source": [
    "❓Create a function that converts `review_score` into `nps_class`. `nps_class` should be a **classification** depending on the `review_score`, so there are 3 possibilities:\n",
    "\n",
    "- `review_score` is **5** 👉 `nps_class` is **1** (promoter)\n",
    "- `review_score` is **4** 👉 `nps_class` is **0** (passive)\n",
    "- `review_score` is **3** or less 👉 `nps_class` is **-1** (detractor)"
   ]
  },
  {
   "cell_type": "code",
   "execution_count": 4,
   "metadata": {
    "jupyter": {
     "outputs_hidden": true
    }
   },
   "outputs": [],
   "source": [
    "def promoter_score(review_score):\n",
    "    if review_score == 5:\n",
    "        return 1\n",
    "    elif review_score == 4:\n",
    "        return 0\n",
    "    return -1\n",
    "orders['nps_class'] = orders['review_score'].apply(promoter_score)"
   ]
  },
  {
   "cell_type": "markdown",
   "metadata": {},
   "source": [
    "💡Let's try to rewrite this function into a single line of code that achieves the same result 😏\n",
    "\n",
    "There are **several** ways to do it! Let's look at some of them, then we can compare their execution times to that of our function to see which one is more efficient ⏱️\n",
    "\n",
    "Two general principles when it comes to programming/coding are:\n",
    "- `KISS`: **K**eep **I**t **S**imple and **S**mart\n",
    "- `DRY`: **D**on't **R**epeat **Y**ourself 😉\n",
    "\n",
    "<details>\n",
    "    <summary>💡Hint</summary>\n",
    "\n",
    "Use the following methods and use `%time` to compare their execution times:\n",
    "- `.apply()` with the function you wrote above\n",
    "- `.map()` or `.apply()` with a `lambda` function\n",
    "- `.loc[]` with boolean indexing\n",
    "- `np.select()` with matching conditions\n",
    "\n",
    "</details>    "
   ]
  },
  {
   "cell_type": "code",
   "execution_count": 5,
   "metadata": {
    "tags": [
     "challengify"
    ]
   },
   "outputs": [
    {
     "name": "stdout",
     "output_type": "stream",
     "text": [
      "    review_score  nps_class\n",
      "0              5          1\n",
      "1              4          0\n",
      "2              3         -1\n",
      "3              2         -1\n",
      "4              1         -1\n",
      "5              5          1\n",
      "6              4          0\n",
      "7              3         -1\n",
      "8              5          1\n",
      "9              5          1\n",
      "10             1         -1\n",
      "CPU times: user 943 µs, sys: 119 µs, total: 1.06 ms\n",
      "Wall time: 5.38 ms\n"
     ]
    }
   ],
   "source": [
    "data = {\n",
    "    'review_score': [5, 4, 3, 2, 1, 5, 4, 3, 5, 5, 1]\n",
    "}\n",
    "orders = pd.DataFrame(data)\n",
    "orders['nps_class'] = np.select(\n",
    "    [orders['review_score'] == 5, orders['review_score'] == 4],\n",
    "    [1, 0],\n",
    "    default=-1\n",
    ")\n",
    "print(orders)\n",
    "\n",
    "%time orders['nps_class'] = np.select([orders['review_score'] == 5, orders['review_score'] == 4], [1, 0], default=-1)"
   ]
  },
  {
   "cell_type": "code",
   "execution_count": 6,
   "metadata": {},
   "outputs": [
    {
     "name": "stdout",
     "output_type": "stream",
     "text": [
      "CPU times: user 1.37 ms, sys: 404 µs, total: 1.77 ms\n",
      "Wall time: 2.01 ms\n"
     ]
    }
   ],
   "source": [
    "%%time\n",
    "# Even more concisely with np.select()\n",
    "orders['promoter_class'] = np.select([orders.review_score >= 4], [orders.review_score - 4], -1)"
   ]
  },
  {
   "cell_type": "markdown",
   "metadata": {},
   "source": [
    "**A Note About `.apply()`**\n",
    "\n",
    "Consider the following examples:\n",
    "\n",
    "```python\n",
    "df.apply(lambda col: col.max(), axis = 0)\n",
    "df.apply(lambda row: row['A'] + row['B'], axis = 1)\n",
    "```\n",
    "\n",
    "These operations look similar because they both use `.apply()`, but one is much slower than the other. The data layout for Pandas DataFrames is **column-major** (read more [here](https://en.wikipedia.org/wiki/Row-_and_column-major_order)), which means that column-wise operations are always going to be faster than row-wise operations. The second example above uses `axis=1`, making it a row-wise operation, which would be more appropriate for **row-major** data layouts such as NumPy arrays.\n",
    "\n",
    "For small amounts of data, this difference is irrelevant, but when you start working with huge datasets this will probably make a big difference. For big datasets, you're likely to notice that using `.loc[]`, `np.select()` or `np.apply_along_axis()` will run faster on Pandas DataFrames when applying a function on every row.\n",
    "\n",
    "It's always good to understand how your data is stored before you access it!"
   ]
  },
  {
   "cell_type": "markdown",
   "metadata": {},
   "source": [
    "👇 Now that you have the different promoter scores, you can compute `Olist's NPS`."
   ]
  },
  {
   "cell_type": "code",
   "execution_count": 7,
   "metadata": {
    "tags": [
     "challengify"
    ]
   },
   "outputs": [
    {
     "name": "stdout",
     "output_type": "stream",
     "text": [
      "Net Promoter Score (NPS): -9.09\n"
     ]
    }
   ],
   "source": [
    "n_promoters = (orders['nps_class'] == 1).sum()\n",
    "n_passives = (orders['nps_class'] == 0).sum()\n",
    "n_detractors = (orders['nps_class'] == -1).sum()\n",
    "\n",
    "nps = ((n_promoters - n_detractors) / len(orders)) * 100\n",
    "print(f\"Net Promoter Score (NPS): {nps:.2f}\")"
   ]
  },
  {
   "cell_type": "markdown",
   "metadata": {},
   "source": [
    "## NPS per Customer State\n",
    "\n",
    "👇 Here is the part of Olist's DB schema that is relevant for this section, to help you have an overview of things.\n",
    "\n",
    "<img src=\"https://wagon-public-datasets.s3-eu-west-1.amazonaws.com/04-Decision-Science/02-Statistical-Inference/olist_schema.png\" width=750>"
   ]
  },
  {
   "cell_type": "markdown",
   "metadata": {},
   "source": [
    "### What is the average review score per state?"
   ]
  },
  {
   "cell_type": "markdown",
   "metadata": {},
   "source": [
    "❓First, create the dataset required for computation"
   ]
  },
  {
   "cell_type": "code",
   "execution_count": 13,
   "metadata": {
    "tags": [
     "challengify"
    ]
   },
   "outputs": [],
   "source": [
    "orders_df = pd.read_csv('/Users/francoisgirard/code/francoisgirard51/04-Decision-Science/01-Project-Setup/data-context-and-setup/data/csv/olist_orders_dataset.csv')\n",
    "customers_df = pd.read_csv('/Users/francoisgirard/code/francoisgirard51/04-Decision-Science/01-Project-Setup/data-context-and-setup/data/csv/olist_customers_dataset.csv')\n",
    "reviews_df = pd.read_csv('/Users/francoisgirard/code/francoisgirard51/04-Decision-Science/01-Project-Setup/data-context-and-setup/data/csv/olist_order_reviews_dataset.csv')\n",
    "\n",
    "merged_df = pd.merge(orders_df, customers_df, how='left', left_on='customer_id', right_on='customer_id')\n",
    "merged_df = pd.merge(merged_df, reviews_df, how='left', left_on='order_id', right_on='order_id')\n",
    "\n",
    "avg_review_score_per_state = merged_df.groupby('customer_state')['review_score'].mean().reset_index()"
   ]
  },
  {
   "cell_type": "markdown",
   "metadata": {},
   "source": [
    "👉 Now, we can aggregate this dataset per  `customer_state` using any aggregation method of our choice :)\n",
    "\n",
    "❓ Let's start with the average review score: compute the average `review_score` per `customer_state`.\n",
    "\n",
    "*Hints:* try to tackle this question using three different methods:\n",
    "- with `.mean()`\n",
    "- then with `.apply()`\n",
    "- and eventually the `.agg()`"
   ]
  },
  {
   "cell_type": "code",
   "execution_count": 15,
   "metadata": {
    "tags": [
     "challengify"
    ]
   },
   "outputs": [],
   "source": [
    "avg_review_score_per_state = merged_df.groupby('customer_state')['review_score'].mean().reset_index()\n",
    "avg_review_score_per_state.rename(columns={'review_score': 'average_review_score'}, inplace=True)"
   ]
  },
  {
   "cell_type": "code",
   "execution_count": 16,
   "metadata": {
    "tags": [
     "challengify"
    ]
   },
   "outputs": [],
   "source": [
    "avg_review_score_per_state_apply = merged_df.groupby('customer_state')['review_score'].apply(lambda x: x.mean()).reset_index()\n",
    "avg_review_score_per_state_apply.rename(columns={'review_score': 'average_review_score'}, inplace=True)"
   ]
  },
  {
   "cell_type": "code",
   "execution_count": 17,
   "metadata": {
    "tags": [
     "challengify"
    ]
   },
   "outputs": [],
   "source": [
    "avg_review_score_per_state_agg = merged_df.groupby('customer_state')['review_score'].agg('mean').reset_index()\n",
    "avg_review_score_per_state_agg.rename(columns={'review_score': 'average_review_score'}, inplace=True)"
   ]
  },
  {
   "cell_type": "markdown",
   "metadata": {},
   "source": [
    "🤩 `.agg()` is much more flexible than the other methods, push it further!"
   ]
  },
  {
   "cell_type": "code",
   "execution_count": 20,
   "metadata": {
    "tags": [
     "challengify"
    ]
   },
   "outputs": [
    {
     "name": "stdout",
     "output_type": "stream",
     "text": [
      "   customer_state  average_review_score  review_count  max_review_score  \\\n",
      "0              AC              4.049383            81               5.0   \n",
      "1              AL              3.751208           414               5.0   \n",
      "2              AM              4.183673           147               5.0   \n",
      "3              AP              4.194030            67               5.0   \n",
      "4              BA              3.860888          3357               5.0   \n",
      "5              CE              3.851016          1329               5.0   \n",
      "6              DF              4.064711          2148               5.0   \n",
      "7              ES              4.041667          2016               5.0   \n",
      "8              GO              4.042490          2024               5.0   \n",
      "9              MA              3.764075           746               5.0   \n",
      "10             MG              4.136172         11625               5.0   \n",
      "11             MS              4.118785           724               5.0   \n",
      "12             MT              4.102990           903               5.0   \n",
      "13             PA              3.849174           968               5.0   \n",
      "14             PB              4.018832           531               5.0   \n",
      "15             PE              4.011543          1646               5.0   \n",
      "16             PI              3.920570           491               5.0   \n",
      "17             PR              4.180032          5038               5.0   \n",
      "18             RJ              3.874971         12765               5.0   \n",
      "19             RN              4.105809           482               5.0   \n",
      "20             RO              4.051587           252               5.0   \n",
      "21             RR              3.608696            46               5.0   \n",
      "22             RS              4.133321          5483               5.0   \n",
      "23             SC              4.071764          3623               5.0   \n",
      "24             SE              3.808023           349               5.0   \n",
      "25             SP              4.173951         41690               5.0   \n",
      "26             TO              4.096774           279               5.0   \n",
      "\n",
      "    min_review_score  std_dev_review_score  \n",
      "0                1.0              1.321942  \n",
      "1                1.0              1.525707  \n",
      "2                1.0              1.276878  \n",
      "3                1.0              1.062285  \n",
      "4                1.0              1.441141  \n",
      "5                1.0              1.472259  \n",
      "6                1.0              1.354323  \n",
      "7                1.0              1.355533  \n",
      "8                1.0              1.345494  \n",
      "9                1.0              1.505461  \n",
      "10               1.0              1.305905  \n",
      "11               1.0              1.337710  \n",
      "12               1.0              1.307247  \n",
      "13               1.0              1.471543  \n",
      "14               1.0              1.389863  \n",
      "15               1.0              1.405759  \n",
      "16               1.0              1.438467  \n",
      "17               1.0              1.269494  \n",
      "18               1.0              1.514695  \n",
      "19               1.0              1.333717  \n",
      "20               1.0              1.330502  \n",
      "21               1.0              1.556039  \n",
      "22               1.0              1.301330  \n",
      "23               1.0              1.345108  \n",
      "24               1.0              1.527655  \n",
      "25               1.0              1.281866  \n",
      "26               1.0              1.278470  \n"
     ]
    }
   ],
   "source": [
    "agg_functions = {\n",
    "    'mean': 'mean',  # Calculate the average\n",
    "    'count': 'count',  # Count the number of entries\n",
    "    'max': 'max',  # Find the maximum review score\n",
    "    'min': 'min',  # Find the minimum review score\n",
    "    'std': 'std'  # Compute the standard deviation\n",
    "}\n",
    "\n",
    "review_score_stats_per_state = merged_df.groupby('customer_state')['review_score'].agg(['mean', 'count', 'max', 'min', 'std']).reset_index()\n",
    "review_score_stats_per_state.columns = ['customer_state', 'average_review_score', 'review_count', 'max_review_score', 'min_review_score', 'std_dev_review_score']\n",
    "print(review_score_stats_per_state)"
   ]
  },
  {
   "cell_type": "markdown",
   "metadata": {},
   "source": [
    "### NPS per State"
   ]
  },
  {
   "cell_type": "markdown",
   "metadata": {},
   "source": [
    "❓Now, it is time to create a 🔥 **custom aggregation function** to compute the `NPS per customer_state` directly.\n",
    "\n",
    "1️⃣ Create your `nps` function\n",
    "\n",
    "2️⃣ Try to debug it using the `breakpoint()` debugger within your function to understand clearly what objects you are manipulating\n",
    "\n",
    "<br>\n",
    "\n",
    "💡 *PS.:* always **cleanly** exit your debugger by typing `exit` when inside the debugging session, otherwise you will have to restart your Notebook!"
   ]
  },
  {
   "cell_type": "code",
   "execution_count": 21,
   "metadata": {
    "tags": [
     "challengify"
    ]
   },
   "outputs": [
    {
     "name": "stdout",
     "output_type": "stream",
     "text": [
      "   customer_state        NPS\n",
      "0              AC  43.835616\n",
      "1              AL  25.454545\n",
      "2              AM  47.517730\n",
      "3              AP  49.152542\n",
      "4              BA  33.377483\n",
      "5              CE  33.973289\n",
      "6              DF  44.843276\n",
      "7              ES  44.111232\n",
      "8              GO  44.189853\n",
      "9              MA  28.422619\n",
      "10             MG  49.784159\n",
      "11             MS  48.507463\n",
      "12             MT  47.030303\n",
      "13             PA  33.830275\n",
      "14             PB  43.685300\n",
      "15             PE  42.574257\n",
      "16             PI  36.748330\n",
      "17             PR  51.320593\n",
      "18             RJ  36.568502\n",
      "19             RN  47.855530\n",
      "20             RO  45.777778\n",
      "21             RR  23.076923\n",
      "22             RS  49.106079\n",
      "23             SC  46.214416\n",
      "24             SE  31.562500\n",
      "25             SP  51.756922\n",
      "26             TO  44.531250\n"
     ]
    }
   ],
   "source": [
    "import pandas as pd\n",
    "\n",
    "\n",
    "def calculate_nps(scores):\n",
    "    promoters = scores[scores == 5].count()\n",
    "    passives = scores[scores == 4].count()\n",
    "    detractors = scores[scores <= 2].count()\n",
    "\n",
    "    nps = ((promoters - detractors) / (promoters + passives + detractors)) * 100\n",
    "    return nps\n",
    "nps_per_state = merged_df.groupby('customer_state')['review_score'].apply(calculate_nps).reset_index(name='NPS')\n",
    "print(nps_per_state)"
   ]
  },
  {
   "cell_type": "markdown",
   "metadata": {},
   "source": [
    "👉 Now, use your `nps` function to compute the `NPS per customer_state`."
   ]
  },
  {
   "cell_type": "code",
   "execution_count": 22,
   "metadata": {
    "tags": [
     "challengify"
    ]
   },
   "outputs": [
    {
     "name": "stdout",
     "output_type": "stream",
     "text": [
      "   customer_state        NPS\n",
      "0              AC  43.835616\n",
      "1              AL  25.454545\n",
      "2              AM  47.517730\n",
      "3              AP  49.152542\n",
      "4              BA  33.377483\n",
      "5              CE  33.973289\n",
      "6              DF  44.843276\n",
      "7              ES  44.111232\n",
      "8              GO  44.189853\n",
      "9              MA  28.422619\n",
      "10             MG  49.784159\n",
      "11             MS  48.507463\n",
      "12             MT  47.030303\n",
      "13             PA  33.830275\n",
      "14             PB  43.685300\n",
      "15             PE  42.574257\n",
      "16             PI  36.748330\n",
      "17             PR  51.320593\n",
      "18             RJ  36.568502\n",
      "19             RN  47.855530\n",
      "20             RO  45.777778\n",
      "21             RR  23.076923\n",
      "22             RS  49.106079\n",
      "23             SC  46.214416\n",
      "24             SE  31.562500\n",
      "25             SP  51.756922\n",
      "26             TO  44.531250\n"
     ]
    }
   ],
   "source": [
    "def calculate_nps(scores):\n",
    "    promoters = scores[scores == 5].count()\n",
    "    passives = scores[scores == 4].count()\n",
    "    detractors = scores[scores <= 2].count()\n",
    "    \n",
    "    nps = ((promoters - detractors) / (promoters + passives + detractors)) * 100\n",
    "    return nps\n",
    "nps_per_state = merged_df.groupby('customer_state')['review_score'].apply(calculate_nps).reset_index(name='NPS')\n",
    "print(nps_per_state)"
   ]
  },
  {
   "cell_type": "markdown",
   "metadata": {},
   "source": [
    "Again, instead of using this function, try to do the same task in one line of code, remember the `KISS` principle? 😉"
   ]
  },
  {
   "cell_type": "code",
   "execution_count": 23,
   "metadata": {
    "tags": [
     "challengify"
    ]
   },
   "outputs": [],
   "source": [
    "nps_per_state = (merged_df.groupby('customer_state')['review_score']\n",
    "                 .apply(lambda x: ((x == 5).sum() - (x <= 2).sum()) / x.count() * 100)\n",
    "                 .reset_index(name='NPS'))"
   ]
  },
  {
   "cell_type": "markdown",
   "metadata": {},
   "source": [
    "# Cheat Sheet for `map`, `apply`, `applymap` and `groupby`"
   ]
  },
  {
   "cell_type": "markdown",
   "metadata": {},
   "source": [
    "```python\n",
    "# MAP (for Series)\n",
    "series.map(function) \n",
    "series.map({mapping dict})\n",
    "\n",
    "# APPLY (for DataFrame)\n",
    "df.apply(lambda col: col.max(), axis = 0)     # default axis\n",
    "df.apply(lambda row: row[‘A’] + row[‘B’], axis = 1)\n",
    "\n",
    "df.applymap(my_funct_for_indiv_elements)\n",
    "df.applymap(lambda x: '%.2f' % x)\n",
    "```"
   ]
  },
  {
   "cell_type": "markdown",
   "metadata": {},
   "source": [
    "```python\n",
    "## GROUPBY\n",
    "group = df.groupby('col_A')\n",
    "\n",
    "group.mean()\n",
    "group.apply(np.mean)\n",
    "group.agg({\n",
    "    col_A: ['mean', np.sum],\n",
    "    col_B: my_custom_sum,\n",
    "    col_B: lambda s: my_custom_sum(s)\n",
    "})\n",
    "\n",
    "group.apply(custom_mean_function)\n",
    "```"
   ]
  },
  {
   "cell_type": "markdown",
   "metadata": {},
   "source": [
    "[Introduction to Pandas' `apply`, `applymap` and `map` - Towards Data Science](https://towardsdatascience.com/introduction-to-pandas-apply-applymap-and-map-5d3e044e93ff)"
   ]
  }
 ],
 "metadata": {
  "kernelspec": {
   "display_name": "Python 3 (ipykernel)",
   "language": "python",
   "name": "python3"
  },
  "language_info": {
   "codemirror_mode": {
    "name": "ipython",
    "version": 3
   },
   "file_extension": ".py",
   "mimetype": "text/x-python",
   "name": "python",
   "nbconvert_exporter": "python",
   "pygments_lexer": "ipython3",
   "version": "3.10.6"
  },
  "toc": {
   "base_numbering": 1,
   "nav_menu": {},
   "number_sections": true,
   "sideBar": true,
   "skip_h1_title": false,
   "title_cell": "Table of Contents",
   "title_sidebar": "Contents",
   "toc_cell": false,
   "toc_position": {},
   "toc_section_display": true,
   "toc_window_display": false
  }
 },
 "nbformat": 4,
 "nbformat_minor": 4
}
