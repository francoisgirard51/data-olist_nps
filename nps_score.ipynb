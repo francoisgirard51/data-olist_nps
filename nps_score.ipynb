{
 "cells": [
  {
   "cell_type": "markdown",
   "metadata": {},
   "source": [
    "## Imports"
   ]
  },
  {
   "cell_type": "code",
   "execution_count": null,
   "metadata": {},
   "outputs": [],
   "source": [
    "# Import the usual modules\n",
    "import pandas as pd\n",
    "import numpy as np\n",
    "import seaborn as sns\n",
    "import matplotlib.pyplot as plt\n",
    "\n",
    "# Import Olist data\n",
    "from olist.data import Olist\n",
    "from olist.order import Order"
   ]
  },
  {
   "cell_type": "markdown",
   "metadata": {},
   "source": [
    "# Olist's Net Promoter Score (NPS) 🔥\n",
    "\n",
    "The **Net Promoter Score (NPS)** of a service answers the following question:\n",
    "\n",
    "> How likely is it that you would recommend our company/product/service to a friend or colleague?\n",
    "\n",
    "For a service rated between 1 and 5 stars, like Olist, we can **classify customers into three categories** based on their answers:\n",
    "- ✅ **Promoters**: customers who answered  with a score of 5\n",
    "- 😴 **Passive**: customers who answered with a score of 4 \n",
    "- 😡 **Detractors**: customers who answered with a score between 1 and 3 (inclusive)\n",
    "\n",
    "<br>\n",
    "\n",
    "👉 NPS is computed by subtracting the percentage of customers who are **detractors** from the percentage of customers who are **promoters**.\n",
    "\n",
    "> NPS  \n",
    "= % Promoters - % Detractors   \n",
    "= (# Promoter - # Detractors) / # Reviews  \n",
    "= (# 5 stars - # <4 stars) / # Reviews"
   ]
  },
  {
   "cell_type": "markdown",
   "metadata": {},
   "source": [
    "## Computing the Overall NPS Score of Olist"
   ]
  },
  {
   "cell_type": "code",
   "execution_count": null,
   "metadata": {},
   "outputs": [],
   "source": [
    "data = Olist().get_data()\n",
    "orders = Order().get_training_data()"
   ]
  },
  {
   "cell_type": "markdown",
   "metadata": {},
   "source": [
    "❓Create a function that converts `review_score` into `nps_class`. `nps_class` should be a **classification** depending on the `review_score`, so there are 3 possibilities:\n",
    "\n",
    "- `review_score` is **5** 👉 `nps_class` is **1** (promoter)\n",
    "- `review_score` is **4** 👉 `nps_class` is **0** (passive)\n",
    "- `review_score` is **3** or less 👉 `nps_class` is **-1** (detractor)"
   ]
  },
  {
   "cell_type": "code",
   "execution_count": null,
   "metadata": {
    "jupyter": {
     "outputs_hidden": true
    }
   },
   "outputs": [],
   "source": [
    "def promoter_score(review_score):\n",
    "    pass  # YOUR CODE HERE"
   ]
  },
  {
   "cell_type": "markdown",
   "metadata": {},
   "source": [
    "💡Let's try to rewrite this function into a single line of code that achieves the same result 😏\n",
    "\n",
    "There are **several** ways to do it! Let's look at some of them, then we can compare their execution times to that of our function to see which one is more efficient ⏱️\n",
    "\n",
    "Two general principles when it comes to programming/coding are:\n",
    "- `KISS`: **K**eep **I**t **S**imple and **S**mart\n",
    "- `DRY`: **D**on't **R**epeat **Y**ourself 😉\n",
    "\n",
    "<details>\n",
    "    <summary>💡Hint</summary>\n",
    "\n",
    "Use the following methods and use `%time` to compare their execution times:\n",
    "- `.apply()` with the function you wrote above\n",
    "- `.map()` or `.apply()` with a `lambda` function\n",
    "- `.loc[]` with boolean indexing\n",
    "- `np.select()` with matching conditions\n",
    "\n",
    "</details>    "
   ]
  },
  {
   "cell_type": "code",
   "execution_count": null,
   "metadata": {
    "tags": [
     "challengify"
    ]
   },
   "outputs": [],
   "source": [
    "# YOUR CODE HERE"
   ]
  },
  {
   "cell_type": "code",
   "execution_count": null,
   "metadata": {},
   "outputs": [],
   "source": [
    "%%time\n",
    "# Even more concisely with np.select()\n",
    "orders['promoter_class'] = np.select([orders.review_score >= 4], [orders.review_score - 4], -1)"
   ]
  },
  {
   "cell_type": "markdown",
   "metadata": {},
   "source": [
    "**A Note About `.apply()`**\n",
    "\n",
    "Consider the following examples:\n",
    "\n",
    "```python\n",
    "df.apply(lambda col: col.max(), axis = 0)\n",
    "df.apply(lambda row: row['A'] + row['B'], axis = 1)\n",
    "```\n",
    "\n",
    "These operations look similar because they both use `.apply()`, but one is much slower than the other. The data layout for Pandas DataFrames is **column-major** (read more [here](https://en.wikipedia.org/wiki/Row-_and_column-major_order)), which means that column-wise operations are always going to be faster than row-wise operations. The second example above uses `axis=1`, making it a row-wise operation, which would be more appropriate for **row-major** data layouts such as NumPy arrays.\n",
    "\n",
    "For small amounts of data, this difference is irrelevant, but when you start working with huge datasets this will probably make a big difference. For big datasets, you're likely to notice that using `.loc[]`, `np.select()` or `np.apply_along_axis()` will run faster on Pandas DataFrames when applying a function on every row.\n",
    "\n",
    "It's always good to understand how your data is stored before you access it!"
   ]
  },
  {
   "cell_type": "markdown",
   "metadata": {},
   "source": [
    "👇 Now that you have the different promoter scores, you can compute `Olist's NPS`."
   ]
  },
  {
   "cell_type": "code",
   "execution_count": null,
   "metadata": {
    "tags": [
     "challengify"
    ]
   },
   "outputs": [],
   "source": [
    "# YOUR CODE HERE"
   ]
  },
  {
   "cell_type": "markdown",
   "metadata": {},
   "source": [
    "## NPS per Customer State\n",
    "\n",
    "👇 Here is the part of Olist's DB schema that is relevant for this section, to help you have an overview of things.\n",
    "\n",
    "<img src=\"https://wagon-public-datasets.s3-eu-west-1.amazonaws.com/04-Decision-Science/02-Statistical-Inference/olist_schema.png\" width=750>"
   ]
  },
  {
   "cell_type": "markdown",
   "metadata": {},
   "source": [
    "### What is the average review score per state?"
   ]
  },
  {
   "cell_type": "markdown",
   "metadata": {},
   "source": [
    "❓First, create the dataset required for computation"
   ]
  },
  {
   "cell_type": "code",
   "execution_count": null,
   "metadata": {
    "tags": [
     "challengify"
    ]
   },
   "outputs": [],
   "source": [
    "# YOUR CODE HERE"
   ]
  },
  {
   "cell_type": "markdown",
   "metadata": {},
   "source": [
    "👉 Now, we can aggregate this dataset per  `customer_state` using any aggregation method of our choice :)\n",
    "\n",
    "❓ Let's start with the average review score: compute the average `review_score` per `customer_state`.\n",
    "\n",
    "*Hints:* try to tackle this question using three different methods:\n",
    "- with `.mean()`\n",
    "- then with `.apply()`\n",
    "- and eventually the `.agg()`"
   ]
  },
  {
   "cell_type": "code",
   "execution_count": null,
   "metadata": {
    "tags": [
     "challengify"
    ]
   },
   "outputs": [],
   "source": [
    "# YOUR CODE HERE"
   ]
  },
  {
   "cell_type": "code",
   "execution_count": null,
   "metadata": {
    "tags": [
     "challengify"
    ]
   },
   "outputs": [],
   "source": [
    "# YOUR CODE HERE"
   ]
  },
  {
   "cell_type": "code",
   "execution_count": null,
   "metadata": {
    "tags": [
     "challengify"
    ]
   },
   "outputs": [],
   "source": [
    "# YOUR CODE HERE"
   ]
  },
  {
   "cell_type": "markdown",
   "metadata": {},
   "source": [
    "🤩 `.agg()` is much more flexible than the other methods, push it further!"
   ]
  },
  {
   "cell_type": "code",
   "execution_count": null,
   "metadata": {
    "tags": [
     "challengify"
    ]
   },
   "outputs": [],
   "source": [
    "# YOUR CODE HERE"
   ]
  },
  {
   "cell_type": "markdown",
   "metadata": {},
   "source": [
    "### NPS per State"
   ]
  },
  {
   "cell_type": "markdown",
   "metadata": {},
   "source": [
    "❓Now, it is time to create a 🔥 **custom aggregation function** to compute the `NPS per customer_state` directly.\n",
    "\n",
    "1️⃣ Create your `nps` function\n",
    "\n",
    "2️⃣ Try to debug it using the `breakpoint()` debugger within your function to understand clearly what objects you are manipulating\n",
    "\n",
    "<br>\n",
    "\n",
    "💡 *PS.:* always **cleanly** exit your debugger by typing `exit` when inside the debugging session, otherwise you will have to restart your Notebook!"
   ]
  },
  {
   "cell_type": "code",
   "execution_count": null,
   "metadata": {
    "tags": [
     "challengify"
    ]
   },
   "outputs": [],
   "source": [
    "# YOUR CODE HERE"
   ]
  },
  {
   "cell_type": "markdown",
   "metadata": {},
   "source": [
    "👉 Now, use your `nps` function to compute the `NPS per customer_state`."
   ]
  },
  {
   "cell_type": "code",
   "execution_count": null,
   "metadata": {
    "tags": [
     "challengify"
    ]
   },
   "outputs": [],
   "source": [
    "# YOUR CODE HERE"
   ]
  },
  {
   "cell_type": "markdown",
   "metadata": {},
   "source": [
    "Again, instead of using this function, try to do the same task in one line of code, remember the `KISS` principle? 😉"
   ]
  },
  {
   "cell_type": "code",
   "execution_count": null,
   "metadata": {
    "tags": [
     "challengify"
    ]
   },
   "outputs": [],
   "source": [
    "# YOUR CODE HERE"
   ]
  },
  {
   "cell_type": "markdown",
   "metadata": {},
   "source": [
    "# Cheat Sheet for `map`, `apply`, `applymap` and `groupby`"
   ]
  },
  {
   "cell_type": "markdown",
   "metadata": {},
   "source": [
    "```python\n",
    "# MAP (for Series)\n",
    "series.map(function) \n",
    "series.map({mapping dict})\n",
    "\n",
    "# APPLY (for DataFrame)\n",
    "df.apply(lambda col: col.max(), axis = 0)     # default axis\n",
    "df.apply(lambda row: row[‘A’] + row[‘B’], axis = 1)\n",
    "\n",
    "df.applymap(my_funct_for_indiv_elements)\n",
    "df.applymap(lambda x: '%.2f' % x)\n",
    "```"
   ]
  },
  {
   "cell_type": "markdown",
   "metadata": {},
   "source": [
    "```python\n",
    "## GROUPBY\n",
    "group = df.groupby('col_A')\n",
    "\n",
    "group.mean()\n",
    "group.apply(np.mean)\n",
    "group.agg({\n",
    "    col_A: ['mean', np.sum],\n",
    "    col_B: my_custom_sum,\n",
    "    col_B: lambda s: my_custom_sum(s)\n",
    "})\n",
    "\n",
    "group.apply(custom_mean_function)\n",
    "```"
   ]
  },
  {
   "cell_type": "markdown",
   "metadata": {},
   "source": [
    "[Introduction to Pandas' `apply`, `applymap` and `map` - Towards Data Science](https://towardsdatascience.com/introduction-to-pandas-apply-applymap-and-map-5d3e044e93ff)"
   ]
  }
 ],
 "metadata": {
  "kernelspec": {
   "display_name": "Python 3",
   "language": "python",
   "name": "python3"
  }
 },
 "nbformat": 4,
 "nbformat_minor": 4
}
